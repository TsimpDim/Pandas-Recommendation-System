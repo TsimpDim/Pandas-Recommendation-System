{
 "cells": [
  {
   "cell_type": "code",
   "execution_count": 1,
   "metadata": {},
   "outputs": [],
   "source": [
    "import pandas as pd\n",
    "import numpy as np\n",
    "import matplotlib.pyplot as plt\n",
    "import seaborn as sns\n",
    "\n",
    "np.warnings.filterwarnings('ignore')\n",
    "\n",
    "# Used to read only limited number of rows from dataset\n",
    "chunk_size = 10 ** 5 # 100.000"
   ]
  },
  {
   "cell_type": "markdown",
   "metadata": {},
   "source": [
    "## Analyse and process dataset"
   ]
  },
  {
   "cell_type": "markdown",
   "metadata": {},
   "source": [
    "### Read base book dataset"
   ]
  },
  {
   "cell_type": "code",
   "execution_count": 2,
   "metadata": {
    "scrolled": true
   },
   "outputs": [
    {
     "data": {
      "text/html": [
       "<div>\n",
       "<style scoped>\n",
       "    .dataframe tbody tr th:only-of-type {\n",
       "        vertical-align: middle;\n",
       "    }\n",
       "\n",
       "    .dataframe tbody tr th {\n",
       "        vertical-align: top;\n",
       "    }\n",
       "\n",
       "    .dataframe thead th {\n",
       "        text-align: right;\n",
       "    }\n",
       "</style>\n",
       "<table border=\"1\" class=\"dataframe\">\n",
       "  <thead>\n",
       "    <tr style=\"text-align: right;\">\n",
       "      <th></th>\n",
       "      <th>book_id</th>\n",
       "      <th>authors</th>\n",
       "      <th>original_publication_year</th>\n",
       "      <th>original_title</th>\n",
       "      <th>average_rating</th>\n",
       "      <th>image_url</th>\n",
       "    </tr>\n",
       "  </thead>\n",
       "  <tbody>\n",
       "    <tr>\n",
       "      <th>0</th>\n",
       "      <td>1</td>\n",
       "      <td>Suzanne Collins</td>\n",
       "      <td>2008.0</td>\n",
       "      <td>The Hunger Games</td>\n",
       "      <td>4.34</td>\n",
       "      <td>https://images.gr-assets.com/books/1447303603m...</td>\n",
       "    </tr>\n",
       "    <tr>\n",
       "      <th>1</th>\n",
       "      <td>2</td>\n",
       "      <td>J.K. Rowling, Mary GrandPré</td>\n",
       "      <td>1997.0</td>\n",
       "      <td>Harry Potter and the Philosopher's Stone</td>\n",
       "      <td>4.44</td>\n",
       "      <td>https://images.gr-assets.com/books/1474154022m...</td>\n",
       "    </tr>\n",
       "    <tr>\n",
       "      <th>2</th>\n",
       "      <td>3</td>\n",
       "      <td>Stephenie Meyer</td>\n",
       "      <td>2005.0</td>\n",
       "      <td>Twilight</td>\n",
       "      <td>3.57</td>\n",
       "      <td>https://images.gr-assets.com/books/1361039443m...</td>\n",
       "    </tr>\n",
       "    <tr>\n",
       "      <th>3</th>\n",
       "      <td>4</td>\n",
       "      <td>Harper Lee</td>\n",
       "      <td>1960.0</td>\n",
       "      <td>To Kill a Mockingbird</td>\n",
       "      <td>4.25</td>\n",
       "      <td>https://images.gr-assets.com/books/1361975680m...</td>\n",
       "    </tr>\n",
       "    <tr>\n",
       "      <th>4</th>\n",
       "      <td>5</td>\n",
       "      <td>F. Scott Fitzgerald</td>\n",
       "      <td>1925.0</td>\n",
       "      <td>The Great Gatsby</td>\n",
       "      <td>3.89</td>\n",
       "      <td>https://images.gr-assets.com/books/1490528560m...</td>\n",
       "    </tr>\n",
       "  </tbody>\n",
       "</table>\n",
       "</div>"
      ],
      "text/plain": [
       "   book_id                      authors  original_publication_year  \\\n",
       "0        1              Suzanne Collins                     2008.0   \n",
       "1        2  J.K. Rowling, Mary GrandPré                     1997.0   \n",
       "2        3              Stephenie Meyer                     2005.0   \n",
       "3        4                   Harper Lee                     1960.0   \n",
       "4        5          F. Scott Fitzgerald                     1925.0   \n",
       "\n",
       "                             original_title  average_rating  \\\n",
       "0                          The Hunger Games            4.34   \n",
       "1  Harry Potter and the Philosopher's Stone            4.44   \n",
       "2                                  Twilight            3.57   \n",
       "3                     To Kill a Mockingbird            4.25   \n",
       "4                          The Great Gatsby            3.89   \n",
       "\n",
       "                                           image_url  \n",
       "0  https://images.gr-assets.com/books/1447303603m...  \n",
       "1  https://images.gr-assets.com/books/1474154022m...  \n",
       "2  https://images.gr-assets.com/books/1361039443m...  \n",
       "3  https://images.gr-assets.com/books/1361975680m...  \n",
       "4  https://images.gr-assets.com/books/1490528560m...  "
      ]
     },
     "execution_count": 2,
     "metadata": {},
     "output_type": "execute_result"
    }
   ],
   "source": [
    "books_df = pd.read_csv(\"books.csv\", nrows=chunk_size)\n",
    "\n",
    "# Keep only certain columns\n",
    "books_df = books_df[[\"book_id\",\n",
    "                     \"authors\", \n",
    "                     \"original_publication_year\",\n",
    "                     \"original_title\",\n",
    "                     \"average_rating\",\n",
    "                     \"image_url\"\n",
    "                    ]]\n",
    "books_df.head()"
   ]
  },
  {
   "cell_type": "markdown",
   "metadata": {},
   "source": [
    "### Search for duplicates"
   ]
  },
  {
   "cell_type": "code",
   "execution_count": 3,
   "metadata": {
    "scrolled": true
   },
   "outputs": [
    {
     "data": {
      "text/plain": [
       "725"
      ]
     },
     "execution_count": 3,
     "metadata": {},
     "output_type": "execute_result"
    }
   ],
   "source": [
    "len([\n",
    "    i \n",
    "    for i in books_df.duplicated(subset=\"original_title\")\n",
    "    if i==True\n",
    "])"
   ]
  },
  {
   "cell_type": "markdown",
   "metadata": {},
   "source": [
    "### Remove duplicates"
   ]
  },
  {
   "cell_type": "code",
   "execution_count": 4,
   "metadata": {},
   "outputs": [],
   "source": [
    "books_df.drop_duplicates(subset=\"original_title\", keep=\"first\", inplace=True)"
   ]
  },
  {
   "cell_type": "markdown",
   "metadata": {},
   "source": [
    "### Verify removal "
   ]
  },
  {
   "cell_type": "code",
   "execution_count": 5,
   "metadata": {},
   "outputs": [
    {
     "data": {
      "text/plain": [
       "0"
      ]
     },
     "execution_count": 5,
     "metadata": {},
     "output_type": "execute_result"
    }
   ],
   "source": [
    "len([\n",
    "    i \n",
    "    for i in books_df.duplicated(subset=\"original_title\")\n",
    "    if i==True\n",
    "])"
   ]
  },
  {
   "cell_type": "markdown",
   "metadata": {},
   "source": [
    "## Read and process ratings dataset\n"
   ]
  },
  {
   "cell_type": "code",
   "execution_count": 6,
   "metadata": {},
   "outputs": [],
   "source": [
    "# Read ratings dataset\n",
    "ratings_df = pd.read_csv(\"ratings.csv\", nrows=chunk_size)"
   ]
  },
  {
   "cell_type": "markdown",
   "metadata": {},
   "source": [
    "### Find all the times a book has been rated and merge with main book dataset"
   ]
  },
  {
   "cell_type": "code",
   "execution_count": 7,
   "metadata": {},
   "outputs": [
    {
     "data": {
      "text/html": [
       "<div>\n",
       "<style scoped>\n",
       "    .dataframe tbody tr th:only-of-type {\n",
       "        vertical-align: middle;\n",
       "    }\n",
       "\n",
       "    .dataframe tbody tr th {\n",
       "        vertical-align: top;\n",
       "    }\n",
       "\n",
       "    .dataframe thead th {\n",
       "        text-align: right;\n",
       "    }\n",
       "</style>\n",
       "<table border=\"1\" class=\"dataframe\">\n",
       "  <thead>\n",
       "    <tr style=\"text-align: right;\">\n",
       "      <th></th>\n",
       "      <th>times_rated</th>\n",
       "      <th>original_title</th>\n",
       "    </tr>\n",
       "    <tr>\n",
       "      <th>book_id</th>\n",
       "      <th></th>\n",
       "      <th></th>\n",
       "    </tr>\n",
       "  </thead>\n",
       "  <tbody>\n",
       "    <tr>\n",
       "      <th>2</th>\n",
       "      <td>569</td>\n",
       "      <td>Twilight</td>\n",
       "    </tr>\n",
       "    <tr>\n",
       "      <th>3</th>\n",
       "      <td>45</td>\n",
       "      <td>To Kill a Mockingbird</td>\n",
       "    </tr>\n",
       "    <tr>\n",
       "      <th>4</th>\n",
       "      <td>591</td>\n",
       "      <td>The Great Gatsby</td>\n",
       "    </tr>\n",
       "    <tr>\n",
       "      <th>5</th>\n",
       "      <td>585</td>\n",
       "      <td>The Fault in Our Stars</td>\n",
       "    </tr>\n",
       "    <tr>\n",
       "      <th>7</th>\n",
       "      <td>365</td>\n",
       "      <td>The Catcher in the Rye</td>\n",
       "    </tr>\n",
       "  </tbody>\n",
       "</table>\n",
       "</div>"
      ],
      "text/plain": [
       "         times_rated          original_title\n",
       "book_id                                     \n",
       "2                569                Twilight\n",
       "3                 45   To Kill a Mockingbird\n",
       "4                591        The Great Gatsby\n",
       "5                585  The Fault in Our Stars\n",
       "7                365  The Catcher in the Rye"
      ]
     },
     "execution_count": 7,
     "metadata": {},
     "output_type": "execute_result"
    }
   ],
   "source": [
    "# Get ratings for each book\n",
    "ratings_per_book = pd.DataFrame(ratings_df.groupby(\"book_id\").count()) # Group by book_id\n",
    "del ratings_per_book[\"user_id\"] # Remove unnecessary column\n",
    "ratings_per_book.columns = [\"times_rated\"] # Rename column \n",
    "ratings_per_book = ratings_per_book.join(books_df[\"original_title\"])\n",
    "ratings_per_book.head()"
   ]
  },
  {
   "cell_type": "code",
   "execution_count": 8,
   "metadata": {
    "scrolled": true
   },
   "outputs": [
    {
     "data": {
      "text/html": [
       "<div>\n",
       "<style scoped>\n",
       "    .dataframe tbody tr th:only-of-type {\n",
       "        vertical-align: middle;\n",
       "    }\n",
       "\n",
       "    .dataframe tbody tr th {\n",
       "        vertical-align: top;\n",
       "    }\n",
       "\n",
       "    .dataframe thead th {\n",
       "        text-align: right;\n",
       "    }\n",
       "</style>\n",
       "<table border=\"1\" class=\"dataframe\">\n",
       "  <thead>\n",
       "    <tr style=\"text-align: right;\">\n",
       "      <th></th>\n",
       "      <th>book_id</th>\n",
       "      <th>authors</th>\n",
       "      <th>original_publication_year</th>\n",
       "      <th>original_title</th>\n",
       "      <th>average_rating</th>\n",
       "      <th>image_url</th>\n",
       "      <th>times_rated</th>\n",
       "    </tr>\n",
       "  </thead>\n",
       "  <tbody>\n",
       "    <tr>\n",
       "      <th>0</th>\n",
       "      <td>2</td>\n",
       "      <td>J.K. Rowling, Mary GrandPré</td>\n",
       "      <td>1997.0</td>\n",
       "      <td>Harry Potter and the Philosopher's Stone</td>\n",
       "      <td>4.44</td>\n",
       "      <td>https://images.gr-assets.com/books/1474154022m...</td>\n",
       "      <td>569</td>\n",
       "    </tr>\n",
       "    <tr>\n",
       "      <th>1</th>\n",
       "      <td>3</td>\n",
       "      <td>Stephenie Meyer</td>\n",
       "      <td>2005.0</td>\n",
       "      <td>Twilight</td>\n",
       "      <td>3.57</td>\n",
       "      <td>https://images.gr-assets.com/books/1361039443m...</td>\n",
       "      <td>45</td>\n",
       "    </tr>\n",
       "    <tr>\n",
       "      <th>2</th>\n",
       "      <td>4</td>\n",
       "      <td>Harper Lee</td>\n",
       "      <td>1960.0</td>\n",
       "      <td>To Kill a Mockingbird</td>\n",
       "      <td>4.25</td>\n",
       "      <td>https://images.gr-assets.com/books/1361975680m...</td>\n",
       "      <td>591</td>\n",
       "    </tr>\n",
       "    <tr>\n",
       "      <th>3</th>\n",
       "      <td>5</td>\n",
       "      <td>F. Scott Fitzgerald</td>\n",
       "      <td>1925.0</td>\n",
       "      <td>The Great Gatsby</td>\n",
       "      <td>3.89</td>\n",
       "      <td>https://images.gr-assets.com/books/1490528560m...</td>\n",
       "      <td>585</td>\n",
       "    </tr>\n",
       "    <tr>\n",
       "      <th>4</th>\n",
       "      <td>7</td>\n",
       "      <td>J.R.R. Tolkien</td>\n",
       "      <td>1937.0</td>\n",
       "      <td>The Hobbit or There and Back Again</td>\n",
       "      <td>4.25</td>\n",
       "      <td>https://images.gr-assets.com/books/1372847500m...</td>\n",
       "      <td>365</td>\n",
       "    </tr>\n",
       "  </tbody>\n",
       "</table>\n",
       "</div>"
      ],
      "text/plain": [
       "   book_id                      authors  original_publication_year  \\\n",
       "0        2  J.K. Rowling, Mary GrandPré                     1997.0   \n",
       "1        3              Stephenie Meyer                     2005.0   \n",
       "2        4                   Harper Lee                     1960.0   \n",
       "3        5          F. Scott Fitzgerald                     1925.0   \n",
       "4        7               J.R.R. Tolkien                     1937.0   \n",
       "\n",
       "                             original_title  average_rating  \\\n",
       "0  Harry Potter and the Philosopher's Stone            4.44   \n",
       "1                                  Twilight            3.57   \n",
       "2                     To Kill a Mockingbird            4.25   \n",
       "3                          The Great Gatsby            3.89   \n",
       "4        The Hobbit or There and Back Again            4.25   \n",
       "\n",
       "                                           image_url  times_rated  \n",
       "0  https://images.gr-assets.com/books/1474154022m...          569  \n",
       "1  https://images.gr-assets.com/books/1361039443m...           45  \n",
       "2  https://images.gr-assets.com/books/1361975680m...          591  \n",
       "3  https://images.gr-assets.com/books/1490528560m...          585  \n",
       "4  https://images.gr-assets.com/books/1372847500m...          365  "
      ]
     },
     "execution_count": 8,
     "metadata": {},
     "output_type": "execute_result"
    }
   ],
   "source": [
    "# Breaks down the rating to each of the 5 rating values\n",
    "#ratings_per_book_per_level = pd.DataFrame(ratings_df.groupby('book_id')['rating'].value_counts())\n",
    "\n",
    "# Merge with main dataset\n",
    "books_df = pd.merge(books_df, ratings_per_book['times_rated'], on=\"book_id\")\n",
    "books_df.head()"
   ]
  },
  {
   "cell_type": "markdown",
   "metadata": {},
   "source": [
    "### Replace `book_id` with `book_name` on `ratings_df`"
   ]
  },
  {
   "cell_type": "code",
   "execution_count": 9,
   "metadata": {},
   "outputs": [
    {
     "data": {
      "text/html": [
       "<div>\n",
       "<style scoped>\n",
       "    .dataframe tbody tr th:only-of-type {\n",
       "        vertical-align: middle;\n",
       "    }\n",
       "\n",
       "    .dataframe tbody tr th {\n",
       "        vertical-align: top;\n",
       "    }\n",
       "\n",
       "    .dataframe thead th {\n",
       "        text-align: right;\n",
       "    }\n",
       "</style>\n",
       "<table border=\"1\" class=\"dataframe\">\n",
       "  <thead>\n",
       "    <tr style=\"text-align: right;\">\n",
       "      <th></th>\n",
       "      <th>user_id</th>\n",
       "      <th>rating</th>\n",
       "      <th>original_title</th>\n",
       "      <th>authors</th>\n",
       "    </tr>\n",
       "  </thead>\n",
       "  <tbody>\n",
       "    <tr>\n",
       "      <th>0</th>\n",
       "      <td>1</td>\n",
       "      <td>5</td>\n",
       "      <td>La sombra del viento</td>\n",
       "      <td>Carlos Ruiz Zafón, Lucia Graves</td>\n",
       "    </tr>\n",
       "    <tr>\n",
       "      <th>1</th>\n",
       "      <td>11</td>\n",
       "      <td>3</td>\n",
       "      <td>La sombra del viento</td>\n",
       "      <td>Carlos Ruiz Zafón, Lucia Graves</td>\n",
       "    </tr>\n",
       "    <tr>\n",
       "      <th>2</th>\n",
       "      <td>143</td>\n",
       "      <td>4</td>\n",
       "      <td>La sombra del viento</td>\n",
       "      <td>Carlos Ruiz Zafón, Lucia Graves</td>\n",
       "    </tr>\n",
       "    <tr>\n",
       "      <th>3</th>\n",
       "      <td>242</td>\n",
       "      <td>5</td>\n",
       "      <td>La sombra del viento</td>\n",
       "      <td>Carlos Ruiz Zafón, Lucia Graves</td>\n",
       "    </tr>\n",
       "    <tr>\n",
       "      <th>4</th>\n",
       "      <td>325</td>\n",
       "      <td>4</td>\n",
       "      <td>La sombra del viento</td>\n",
       "      <td>Carlos Ruiz Zafón, Lucia Graves</td>\n",
       "    </tr>\n",
       "  </tbody>\n",
       "</table>\n",
       "</div>"
      ],
      "text/plain": [
       "   user_id  rating        original_title                          authors\n",
       "0        1       5  La sombra del viento  Carlos Ruiz Zafón, Lucia Graves\n",
       "1       11       3  La sombra del viento  Carlos Ruiz Zafón, Lucia Graves\n",
       "2      143       4  La sombra del viento  Carlos Ruiz Zafón, Lucia Graves\n",
       "3      242       5  La sombra del viento  Carlos Ruiz Zafón, Lucia Graves\n",
       "4      325       4  La sombra del viento  Carlos Ruiz Zafón, Lucia Graves"
      ]
     },
     "execution_count": 9,
     "metadata": {},
     "output_type": "execute_result"
    }
   ],
   "source": [
    "ratings_df = pd.merge(ratings_df, books_df[[\"book_id\", \"original_title\", \"authors\"]], on=\"book_id\")\n",
    "\n",
    "# We no longer need the book_id\n",
    "del books_df[\"book_id\"] \n",
    "del ratings_df[\"book_id\"]\n",
    "\n",
    "ratings_df.head()"
   ]
  },
  {
   "cell_type": "markdown",
   "metadata": {},
   "source": [
    "### Pair-wise plot"
   ]
  },
  {
   "cell_type": "code",
   "execution_count": 10,
   "metadata": {},
   "outputs": [
    {
     "data": {
      "text/plain": [
       "<seaborn.axisgrid.PairGrid at 0x7f14c3e19710>"
      ]
     },
     "execution_count": 10,
     "metadata": {},
     "output_type": "execute_result"
    },
    {
     "data": {
      "image/png": "[encoded data removed]",
      "text/plain": [
       "<Figure size 540x540 with 12 Axes>"
      ]
     },
     "metadata": {
      "needs_background": "light"
     },
     "output_type": "display_data"
    }
   ],
   "source": [
    "sns.pairplot(books_df)"
   ]
  },
  {
   "cell_type": "markdown",
   "metadata": {},
   "source": [
    "### Generate correlation matrix"
   ]
  },
  {
   "cell_type": "code",
   "execution_count": 11,
   "metadata": {
    "scrolled": true
   },
   "outputs": [
    {
     "data": {
      "text/html": [
       "<div>\n",
       "<style scoped>\n",
       "    .dataframe tbody tr th:only-of-type {\n",
       "        vertical-align: middle;\n",
       "    }\n",
       "\n",
       "    .dataframe tbody tr th {\n",
       "        vertical-align: top;\n",
       "    }\n",
       "\n",
       "    .dataframe thead th {\n",
       "        text-align: right;\n",
       "    }\n",
       "</style>\n",
       "<table border=\"1\" class=\"dataframe\">\n",
       "  <thead>\n",
       "    <tr style=\"text-align: right;\">\n",
       "      <th></th>\n",
       "      <th>original_publication_year</th>\n",
       "      <th>average_rating</th>\n",
       "      <th>times_rated</th>\n",
       "    </tr>\n",
       "  </thead>\n",
       "  <tbody>\n",
       "    <tr>\n",
       "      <th>original_publication_year</th>\n",
       "      <td>1.000000</td>\n",
       "      <td>0.023625</td>\n",
       "      <td>-0.032335</td>\n",
       "    </tr>\n",
       "    <tr>\n",
       "      <th>average_rating</th>\n",
       "      <td>0.023625</td>\n",
       "      <td>1.000000</td>\n",
       "      <td>-0.030368</td>\n",
       "    </tr>\n",
       "    <tr>\n",
       "      <th>times_rated</th>\n",
       "      <td>-0.032335</td>\n",
       "      <td>-0.030368</td>\n",
       "      <td>1.000000</td>\n",
       "    </tr>\n",
       "  </tbody>\n",
       "</table>\n",
       "</div>"
      ],
      "text/plain": [
       "                           original_publication_year  average_rating  \\\n",
       "original_publication_year                   1.000000        0.023625   \n",
       "average_rating                              0.023625        1.000000   \n",
       "times_rated                                -0.032335       -0.030368   \n",
       "\n",
       "                           times_rated  \n",
       "original_publication_year    -0.032335  \n",
       "average_rating               -0.030368  \n",
       "times_rated                   1.000000  "
      ]
     },
     "execution_count": 11,
     "metadata": {},
     "output_type": "execute_result"
    }
   ],
   "source": [
    "books_df.corr()"
   ]
  },
  {
   "cell_type": "markdown",
   "metadata": {},
   "source": [
    "From the above we can see that `average_rating` and `times_rated` are positively correlated, meaning that one's increase means the other increases as well.\n",
    "\n",
    "We can study the diagram more closely"
   ]
  },
  {
   "cell_type": "code",
   "execution_count": 12,
   "metadata": {
    "scrolled": true
   },
   "outputs": [
    {
     "data": {
      "text/plain": [
       "<seaborn.axisgrid.JointGrid at 0x7f14c4fd1b70>"
      ]
     },
     "execution_count": 12,
     "metadata": {},
     "output_type": "execute_result"
    },
    {
     "data": {
      "image/png": "[encoded data removed]",
      "text/plain": [
       "<Figure size 432x432 with 3 Axes>"
      ]
     },
     "metadata": {
      "needs_background": "light"
     },
     "output_type": "display_data"
    }
   ],
   "source": [
    "sns.jointplot(x='average_rating', y='times_rated', data=books_df)"
   ]
  },
  {
   "cell_type": "markdown",
   "metadata": {},
   "source": [
    "We notice that the diagram has a small tendency/slope towards the top right corner. As such, when `times_rated` increases, so does the `average_rating` and vice versa"
   ]
  },
  {
   "cell_type": "markdown",
   "metadata": {},
   "source": [
    "### Average_ratings histogram"
   ]
  },
  {
   "cell_type": "code",
   "execution_count": 13,
   "metadata": {},
   "outputs": [
    {
     "data": {
      "text/plain": [
       "<matplotlib.axes._subplots.AxesSubplot at 0x7f14c33e7f28>"
      ]
     },
     "execution_count": 13,
     "metadata": {},
     "output_type": "execute_result"
    },
    {
     "data": {
      "image/png": "[encoded data removed]",
      "text/plain": [
       "<Figure size 432x288 with 1 Axes>"
      ]
     },
     "metadata": {
      "needs_background": "light"
     },
     "output_type": "display_data"
    }
   ],
   "source": [
    "books_df[\"average_rating\"].hist(bins=50)"
   ]
  },
  {
   "cell_type": "markdown",
   "metadata": {},
   "source": [
    "As such, we see that most books are rating close to 4/5"
   ]
  },
  {
   "cell_type": "markdown",
   "metadata": {},
   "source": [
    "### Times_rated histogram"
   ]
  },
  {
   "cell_type": "code",
   "execution_count": 14,
   "metadata": {},
   "outputs": [
    {
     "data": {
      "text/plain": [
       "<matplotlib.axes._subplots.AxesSubplot at 0x7f14c32ef860>"
      ]
     },
     "execution_count": 14,
     "metadata": {},
     "output_type": "execute_result"
    },
    {
     "data": {
      "image/png": "[encoded data removed]",
      "text/plain": [
       "<Figure size 432x288 with 1 Axes>"
      ]
     },
     "metadata": {
      "needs_background": "light"
     },
     "output_type": "display_data"
    }
   ],
   "source": [
    "books_df[\"times_rated\"].hist(bins=50)"
   ]
  },
  {
   "cell_type": "markdown",
   "metadata": {},
   "source": [
    "Here we see that books aren't really rated more than ~200 times often"
   ]
  },
  {
   "cell_type": "markdown",
   "metadata": {},
   "source": [
    "## Next, we build the book_matrix"
   ]
  },
  {
   "cell_type": "code",
   "execution_count": 15,
   "metadata": {},
   "outputs": [
    {
     "data": {
      "text/html": [
       "<div>\n",
       "<style scoped>\n",
       "    .dataframe tbody tr th:only-of-type {\n",
       "        vertical-align: middle;\n",
       "    }\n",
       "\n",
       "    .dataframe tbody tr th {\n",
       "        vertical-align: top;\n",
       "    }\n",
       "\n",
       "    .dataframe thead th {\n",
       "        text-align: right;\n",
       "    }\n",
       "</style>\n",
       "<table border=\"1\" class=\"dataframe\">\n",
       "  <thead>\n",
       "    <tr style=\"text-align: right;\">\n",
       "      <th>original_title</th>\n",
       "      <th>Animal Farm &amp; 1984</th>\n",
       "      <th>Burned (Burned, #1)</th>\n",
       "      <th>Carter Beats the Devil</th>\n",
       "      <th>De Imitatione Christi</th>\n",
       "      <th>Faust. Der Tragödie erster und zweiter Teil</th>\n",
       "      <th>Feeling Good: The New Mood Therapy</th>\n",
       "      <th>Innocent Traitor</th>\n",
       "      <th>The Fellowship of the Ring</th>\n",
       "      <th>The Sea of Trolls</th>\n",
       "      <th>The Tale of Despereaux</th>\n",
       "      <th>...</th>\n",
       "      <th>神の子どもたちはみな踊る</th>\n",
       "      <th>窓ぎわのトットちゃん</th>\n",
       "      <th>羊をめぐる冒険 [Hitsujiwomegurubōken]</th>\n",
       "      <th>美少女戦士セーラームーン 1 [Bishōjo Senshi Sailor Moon 1]</th>\n",
       "      <th>花より男子 1</th>\n",
       "      <th>論語 [Lún Yǔ]</th>\n",
       "      <th>象の消滅 [Zō no shōmetsu]</th>\n",
       "      <th>道德經 [dào dé jīng]</th>\n",
       "      <th>鋼の錬金術師 1</th>\n",
       "      <th>雪国</th>\n",
       "    </tr>\n",
       "    <tr>\n",
       "      <th>user_id</th>\n",
       "      <th></th>\n",
       "      <th></th>\n",
       "      <th></th>\n",
       "      <th></th>\n",
       "      <th></th>\n",
       "      <th></th>\n",
       "      <th></th>\n",
       "      <th></th>\n",
       "      <th></th>\n",
       "      <th></th>\n",
       "      <th></th>\n",
       "      <th></th>\n",
       "      <th></th>\n",
       "      <th></th>\n",
       "      <th></th>\n",
       "      <th></th>\n",
       "      <th></th>\n",
       "      <th></th>\n",
       "      <th></th>\n",
       "      <th></th>\n",
       "      <th></th>\n",
       "    </tr>\n",
       "  </thead>\n",
       "  <tbody>\n",
       "    <tr>\n",
       "      <th>1</th>\n",
       "      <td>NaN</td>\n",
       "      <td>NaN</td>\n",
       "      <td>NaN</td>\n",
       "      <td>NaN</td>\n",
       "      <td>NaN</td>\n",
       "      <td>NaN</td>\n",
       "      <td>NaN</td>\n",
       "      <td>NaN</td>\n",
       "      <td>NaN</td>\n",
       "      <td>NaN</td>\n",
       "      <td>...</td>\n",
       "      <td>NaN</td>\n",
       "      <td>NaN</td>\n",
       "      <td>NaN</td>\n",
       "      <td>NaN</td>\n",
       "      <td>NaN</td>\n",
       "      <td>NaN</td>\n",
       "      <td>NaN</td>\n",
       "      <td>NaN</td>\n",
       "      <td>NaN</td>\n",
       "      <td>NaN</td>\n",
       "    </tr>\n",
       "    <tr>\n",
       "      <th>2</th>\n",
       "      <td>NaN</td>\n",
       "      <td>NaN</td>\n",
       "      <td>NaN</td>\n",
       "      <td>NaN</td>\n",
       "      <td>NaN</td>\n",
       "      <td>NaN</td>\n",
       "      <td>NaN</td>\n",
       "      <td>NaN</td>\n",
       "      <td>NaN</td>\n",
       "      <td>NaN</td>\n",
       "      <td>...</td>\n",
       "      <td>NaN</td>\n",
       "      <td>NaN</td>\n",
       "      <td>NaN</td>\n",
       "      <td>NaN</td>\n",
       "      <td>NaN</td>\n",
       "      <td>NaN</td>\n",
       "      <td>NaN</td>\n",
       "      <td>NaN</td>\n",
       "      <td>NaN</td>\n",
       "      <td>NaN</td>\n",
       "    </tr>\n",
       "    <tr>\n",
       "      <th>3</th>\n",
       "      <td>NaN</td>\n",
       "      <td>NaN</td>\n",
       "      <td>NaN</td>\n",
       "      <td>NaN</td>\n",
       "      <td>NaN</td>\n",
       "      <td>NaN</td>\n",
       "      <td>NaN</td>\n",
       "      <td>NaN</td>\n",
       "      <td>NaN</td>\n",
       "      <td>NaN</td>\n",
       "      <td>...</td>\n",
       "      <td>NaN</td>\n",
       "      <td>NaN</td>\n",
       "      <td>NaN</td>\n",
       "      <td>NaN</td>\n",
       "      <td>NaN</td>\n",
       "      <td>NaN</td>\n",
       "      <td>NaN</td>\n",
       "      <td>NaN</td>\n",
       "      <td>NaN</td>\n",
       "      <td>NaN</td>\n",
       "    </tr>\n",
       "    <tr>\n",
       "      <th>4</th>\n",
       "      <td>NaN</td>\n",
       "      <td>NaN</td>\n",
       "      <td>NaN</td>\n",
       "      <td>NaN</td>\n",
       "      <td>NaN</td>\n",
       "      <td>NaN</td>\n",
       "      <td>NaN</td>\n",
       "      <td>NaN</td>\n",
       "      <td>NaN</td>\n",
       "      <td>NaN</td>\n",
       "      <td>...</td>\n",
       "      <td>NaN</td>\n",
       "      <td>NaN</td>\n",
       "      <td>NaN</td>\n",
       "      <td>NaN</td>\n",
       "      <td>NaN</td>\n",
       "      <td>NaN</td>\n",
       "      <td>NaN</td>\n",
       "      <td>NaN</td>\n",
       "      <td>NaN</td>\n",
       "      <td>NaN</td>\n",
       "    </tr>\n",
       "    <tr>\n",
       "      <th>6</th>\n",
       "      <td>NaN</td>\n",
       "      <td>NaN</td>\n",
       "      <td>NaN</td>\n",
       "      <td>NaN</td>\n",
       "      <td>NaN</td>\n",
       "      <td>NaN</td>\n",
       "      <td>NaN</td>\n",
       "      <td>NaN</td>\n",
       "      <td>NaN</td>\n",
       "      <td>NaN</td>\n",
       "      <td>...</td>\n",
       "      <td>NaN</td>\n",
       "      <td>NaN</td>\n",
       "      <td>NaN</td>\n",
       "      <td>NaN</td>\n",
       "      <td>NaN</td>\n",
       "      <td>NaN</td>\n",
       "      <td>NaN</td>\n",
       "      <td>NaN</td>\n",
       "      <td>NaN</td>\n",
       "      <td>NaN</td>\n",
       "    </tr>\n",
       "  </tbody>\n",
       "</table>\n",
       "<p>5 rows × 4855 columns</p>\n",
       "</div>"
      ],
      "text/plain": [
       "original_title   Animal Farm & 1984   Burned (Burned, #1)  \\\n",
       "user_id                                                     \n",
       "1                               NaN                   NaN   \n",
       "2                               NaN                   NaN   \n",
       "3                               NaN                   NaN   \n",
       "4                               NaN                   NaN   \n",
       "6                               NaN                   NaN   \n",
       "\n",
       "original_title   Carter Beats the Devil   De Imitatione Christi  \\\n",
       "user_id                                                           \n",
       "1                                   NaN                     NaN   \n",
       "2                                   NaN                     NaN   \n",
       "3                                   NaN                     NaN   \n",
       "4                                   NaN                     NaN   \n",
       "6                                   NaN                     NaN   \n",
       "\n",
       "original_title   Faust. Der Tragödie erster und zweiter Teil   \\\n",
       "user_id                                                         \n",
       "1                                                         NaN   \n",
       "2                                                         NaN   \n",
       "3                                                         NaN   \n",
       "4                                                         NaN   \n",
       "6                                                         NaN   \n",
       "\n",
       "original_title   Feeling Good: The New Mood Therapy   Innocent Traitor  \\\n",
       "user_id                                                                  \n",
       "1                                               NaN                NaN   \n",
       "2                                               NaN                NaN   \n",
       "3                                               NaN                NaN   \n",
       "4                                               NaN                NaN   \n",
       "6                                               NaN                NaN   \n",
       "\n",
       "original_title   The Fellowship of the Ring   The Sea of Trolls  \\\n",
       "user_id                                                           \n",
       "1                                       NaN                 NaN   \n",
       "2                                       NaN                 NaN   \n",
       "3                                       NaN                 NaN   \n",
       "4                                       NaN                 NaN   \n",
       "6                                       NaN                 NaN   \n",
       "\n",
       "original_title   The Tale of Despereaux  ...  神の子どもたちはみな踊る  窓ぎわのトットちゃん  \\\n",
       "user_id                                  ...                             \n",
       "1                                   NaN  ...           NaN         NaN   \n",
       "2                                   NaN  ...           NaN         NaN   \n",
       "3                                   NaN  ...           NaN         NaN   \n",
       "4                                   NaN  ...           NaN         NaN   \n",
       "6                                   NaN  ...           NaN         NaN   \n",
       "\n",
       "original_title  羊をめぐる冒険 [Hitsujiwomegurubōken]  \\\n",
       "user_id                                          \n",
       "1                                          NaN   \n",
       "2                                          NaN   \n",
       "3                                          NaN   \n",
       "4                                          NaN   \n",
       "6                                          NaN   \n",
       "\n",
       "original_title  美少女戦士セーラームーン 1 [Bishōjo Senshi Sailor Moon 1]  花より男子 1  \\\n",
       "user_id                                                                  \n",
       "1                                                         NaN      NaN   \n",
       "2                                                         NaN      NaN   \n",
       "3                                                         NaN      NaN   \n",
       "4                                                         NaN      NaN   \n",
       "6                                                         NaN      NaN   \n",
       "\n",
       "original_title  論語 [Lún Yǔ]  象の消滅 [Zō no shōmetsu]  道德經 [dào dé jīng]  \\\n",
       "user_id                                                                 \n",
       "1                       NaN                    NaN                NaN   \n",
       "2                       NaN                    NaN                NaN   \n",
       "3                       NaN                    NaN                NaN   \n",
       "4                       NaN                    NaN                NaN   \n",
       "6                       NaN                    NaN                NaN   \n",
       "\n",
       "original_title  鋼の錬金術師 1  雪国   \n",
       "user_id                        \n",
       "1                    NaN  NaN  \n",
       "2                    NaN  NaN  \n",
       "3                    NaN  NaN  \n",
       "4                    NaN  NaN  \n",
       "6                    NaN  NaN  \n",
       "\n",
       "[5 rows x 4855 columns]"
      ]
     },
     "execution_count": 15,
     "metadata": {},
     "output_type": "execute_result"
    }
   ],
   "source": [
    "book_matrix = ratings_df.pivot_table(index='user_id', columns='original_title', values='rating')\n",
    "book_matrix.head()"
   ]
  },
  {
   "cell_type": "markdown",
   "metadata": {},
   "source": [
    "## Recommender system in full effect\n",
    "\n",
    "### For examples' sake we pick from the most rated books"
   ]
  },
  {
   "cell_type": "code",
   "execution_count": 16,
   "metadata": {},
   "outputs": [
    {
     "data": {
      "text/html": [
       "<div>\n",
       "<style scoped>\n",
       "    .dataframe tbody tr th:only-of-type {\n",
       "        vertical-align: middle;\n",
       "    }\n",
       "\n",
       "    .dataframe tbody tr th {\n",
       "        vertical-align: top;\n",
       "    }\n",
       "\n",
       "    .dataframe thead th {\n",
       "        text-align: right;\n",
       "    }\n",
       "</style>\n",
       "<table border=\"1\" class=\"dataframe\">\n",
       "  <thead>\n",
       "    <tr style=\"text-align: right;\">\n",
       "      <th></th>\n",
       "      <th>authors</th>\n",
       "      <th>original_publication_year</th>\n",
       "      <th>original_title</th>\n",
       "      <th>average_rating</th>\n",
       "      <th>image_url</th>\n",
       "      <th>times_rated</th>\n",
       "    </tr>\n",
       "  </thead>\n",
       "  <tbody>\n",
       "    <tr>\n",
       "      <th>19</th>\n",
       "      <td>Dan Brown</td>\n",
       "      <td>2003.0</td>\n",
       "      <td>The Da Vinci Code</td>\n",
       "      <td>3.79</td>\n",
       "      <td>https://images.gr-assets.com/books/1303252999m...</td>\n",
       "      <td>641</td>\n",
       "    </tr>\n",
       "    <tr>\n",
       "      <th>5</th>\n",
       "      <td>J.D. Salinger</td>\n",
       "      <td>1951.0</td>\n",
       "      <td>The Catcher in the Rye</td>\n",
       "      <td>3.79</td>\n",
       "      <td>https://images.gr-assets.com/books/1398034300m...</td>\n",
       "      <td>602</td>\n",
       "    </tr>\n",
       "    <tr>\n",
       "      <th>2</th>\n",
       "      <td>Harper Lee</td>\n",
       "      <td>1960.0</td>\n",
       "      <td>To Kill a Mockingbird</td>\n",
       "      <td>4.25</td>\n",
       "      <td>https://images.gr-assets.com/books/1361975680m...</td>\n",
       "      <td>591</td>\n",
       "    </tr>\n",
       "    <tr>\n",
       "      <th>3</th>\n",
       "      <td>F. Scott Fitzgerald</td>\n",
       "      <td>1925.0</td>\n",
       "      <td>The Great Gatsby</td>\n",
       "      <td>3.89</td>\n",
       "      <td>https://images.gr-assets.com/books/1490528560m...</td>\n",
       "      <td>585</td>\n",
       "    </tr>\n",
       "    <tr>\n",
       "      <th>0</th>\n",
       "      <td>J.K. Rowling, Mary GrandPré</td>\n",
       "      <td>1997.0</td>\n",
       "      <td>Harry Potter and the Philosopher's Stone</td>\n",
       "      <td>4.44</td>\n",
       "      <td>https://images.gr-assets.com/books/1474154022m...</td>\n",
       "      <td>569</td>\n",
       "    </tr>\n",
       "    <tr>\n",
       "      <th>12</th>\n",
       "      <td>J.K. Rowling, Mary GrandPré, Rufus Beck</td>\n",
       "      <td>1999.0</td>\n",
       "      <td>Harry Potter and the Prisoner of Azkaban</td>\n",
       "      <td>4.53</td>\n",
       "      <td>https://images.gr-assets.com/books/1499277281m...</td>\n",
       "      <td>544</td>\n",
       "    </tr>\n",
       "    <tr>\n",
       "      <th>17</th>\n",
       "      <td>J.K. Rowling, Mary GrandPré</td>\n",
       "      <td>2000.0</td>\n",
       "      <td>Harry Potter and the Goblet of Fire</td>\n",
       "      <td>4.53</td>\n",
       "      <td>https://images.gr-assets.com/books/1361482611m...</td>\n",
       "      <td>538</td>\n",
       "    </tr>\n",
       "    <tr>\n",
       "      <th>20</th>\n",
       "      <td>J.K. Rowling, Mary GrandPré</td>\n",
       "      <td>2005.0</td>\n",
       "      <td>Harry Potter and the Half-Blood Prince</td>\n",
       "      <td>4.54</td>\n",
       "      <td>https://images.gr-assets.com/books/1361039191m...</td>\n",
       "      <td>530</td>\n",
       "    </tr>\n",
       "    <tr>\n",
       "      <th>14</th>\n",
       "      <td>J.K. Rowling, Mary GrandPré</td>\n",
       "      <td>2003.0</td>\n",
       "      <td>Harry Potter and the Order of the Phoenix</td>\n",
       "      <td>4.46</td>\n",
       "      <td>https://images.gr-assets.com/books/1387141547m...</td>\n",
       "      <td>527</td>\n",
       "    </tr>\n",
       "    <tr>\n",
       "      <th>16</th>\n",
       "      <td>J.K. Rowling, Mary GrandPré</td>\n",
       "      <td>1998.0</td>\n",
       "      <td>Harry Potter and the Chamber of Secrets</td>\n",
       "      <td>4.37</td>\n",
       "      <td>https://images.gr-assets.com/books/1474169725m...</td>\n",
       "      <td>525</td>\n",
       "    </tr>\n",
       "  </tbody>\n",
       "</table>\n",
       "</div>"
      ],
      "text/plain": [
       "                                    authors  original_publication_year  \\\n",
       "19                                Dan Brown                     2003.0   \n",
       "5                             J.D. Salinger                     1951.0   \n",
       "2                                Harper Lee                     1960.0   \n",
       "3                       F. Scott Fitzgerald                     1925.0   \n",
       "0               J.K. Rowling, Mary GrandPré                     1997.0   \n",
       "12  J.K. Rowling, Mary GrandPré, Rufus Beck                     1999.0   \n",
       "17              J.K. Rowling, Mary GrandPré                     2000.0   \n",
       "20              J.K. Rowling, Mary GrandPré                     2005.0   \n",
       "14              J.K. Rowling, Mary GrandPré                     2003.0   \n",
       "16              J.K. Rowling, Mary GrandPré                     1998.0   \n",
       "\n",
       "                               original_title  average_rating  \\\n",
       "19                          The Da Vinci Code            3.79   \n",
       "5                      The Catcher in the Rye            3.79   \n",
       "2                       To Kill a Mockingbird            4.25   \n",
       "3                            The Great Gatsby            3.89   \n",
       "0    Harry Potter and the Philosopher's Stone            4.44   \n",
       "12   Harry Potter and the Prisoner of Azkaban            4.53   \n",
       "17        Harry Potter and the Goblet of Fire            4.53   \n",
       "20     Harry Potter and the Half-Blood Prince            4.54   \n",
       "14  Harry Potter and the Order of the Phoenix            4.46   \n",
       "16    Harry Potter and the Chamber of Secrets            4.37   \n",
       "\n",
       "                                            image_url  times_rated  \n",
       "19  https://images.gr-assets.com/books/1303252999m...          641  \n",
       "5   https://images.gr-assets.com/books/1398034300m...          602  \n",
       "2   https://images.gr-assets.com/books/1361975680m...          591  \n",
       "3   https://images.gr-assets.com/books/1490528560m...          585  \n",
       "0   https://images.gr-assets.com/books/1474154022m...          569  \n",
       "12  https://images.gr-assets.com/books/1499277281m...          544  \n",
       "17  https://images.gr-assets.com/books/1361482611m...          538  \n",
       "20  https://images.gr-assets.com/books/1361039191m...          530  \n",
       "14  https://images.gr-assets.com/books/1387141547m...          527  \n",
       "16  https://images.gr-assets.com/books/1474169725m...          525  "
      ]
     },
     "execution_count": 16,
     "metadata": {},
     "output_type": "execute_result"
    }
   ],
   "source": [
    "books_df.sort_values('times_rated', ascending=False).head(10)"
   ]
  },
  {
   "cell_type": "markdown",
   "metadata": {},
   "source": [
    "Assuming our reader liked `The Catcher in the Rye` and `To Kill a Mockingbird`, we proceed to try to recommend him books similar to these"
   ]
  },
  {
   "cell_type": "code",
   "execution_count": 17,
   "metadata": {},
   "outputs": [],
   "source": [
    "TCITR_rating = book_matrix['The Catcher in the Rye']\n",
    "TKAM_rating = book_matrix['To Kill a Mockingbird']"
   ]
  },
  {
   "cell_type": "code",
   "execution_count": 18,
   "metadata": {},
   "outputs": [
    {
     "data": {
      "text/plain": [
       "user_id\n",
       "1    NaN\n",
       "2    NaN\n",
       "3    NaN\n",
       "4    4.0\n",
       "6    NaN\n",
       "Name: The Catcher in the Rye, dtype: float64"
      ]
     },
     "execution_count": 18,
     "metadata": {},
     "output_type": "execute_result"
    }
   ],
   "source": [
    "TCITR_rating.head()"
   ]
  },
  {
   "cell_type": "code",
   "execution_count": 19,
   "metadata": {},
   "outputs": [
    {
     "data": {
      "text/plain": [
       "user_id\n",
       "1    NaN\n",
       "2    NaN\n",
       "3    3.0\n",
       "4    4.0\n",
       "6    NaN\n",
       "Name: To Kill a Mockingbird, dtype: float64"
      ]
     },
     "execution_count": 19,
     "metadata": {},
     "output_type": "execute_result"
    }
   ],
   "source": [
    "TKAM_rating.head()"
   ]
  },
  {
   "cell_type": "markdown",
   "metadata": {},
   "source": [
    "### Now that we've got the user ratings for these books, we try to correlate the ratings with other books (users who rated both books similarly) "
   ]
  },
  {
   "cell_type": "code",
   "execution_count": 20,
   "metadata": {},
   "outputs": [
    {
     "data": {
      "text/plain": [
       "original_title\n",
       "The Walking Dead, Vol. 4: The Heart's Desire    1.0\n",
       "The Polar Express                               1.0\n",
       "The Long Goodbye                                1.0\n",
       "Pyramids                                        1.0\n",
       "Surprised by Joy: The Shape of My Early Life    1.0\n",
       "dtype: float64"
      ]
     },
     "execution_count": 20,
     "metadata": {},
     "output_type": "execute_result"
    }
   ],
   "source": [
    "similar_to_TCITR = book_matrix.corrwith(TCITR_rating)\n",
    "similar_to_TCITR.sort_values(ascending=False).head()"
   ]
  },
  {
   "cell_type": "code",
   "execution_count": 21,
   "metadata": {},
   "outputs": [
    {
     "data": {
      "text/plain": [
       "original_title\n",
       "The Monk Who Sold His Ferrari: A Fable About Fulfilling Your Dreams & Reaching Your Destiny    1.0\n",
       "Reaper Man                                                                                     1.0\n",
       "Second Treatise of Government                                                                  1.0\n",
       "A Breath of Snow and Ashes                                                                     1.0\n",
       "O Evangelho segundo Jesus Cristo                                                               1.0\n",
       "dtype: float64"
      ]
     },
     "execution_count": 21,
     "metadata": {},
     "output_type": "execute_result"
    }
   ],
   "source": [
    "similar_to_TKAM = book_matrix.corrwith(TKAM_rating)\n",
    "similar_to_TKAM.sort_values(ascending=False).head()"
   ]
  },
  {
   "cell_type": "markdown",
   "metadata": {},
   "source": [
    "As we see, examples of similar books for TCITR include `A Tree Grows In Brooklyn` and `A Wizard of Earthsea`, while similar to TKAM are `One Flew Over the Cuckoo's Nest` and `Bookends` (assuming the full dataset - using a smaller dataset will result in different correlations)"
   ]
  },
  {
   "cell_type": "markdown",
   "metadata": {},
   "source": [
    "### Tidy up"
   ]
  },
  {
   "cell_type": "code",
   "execution_count": 22,
   "metadata": {},
   "outputs": [
    {
     "data": {
      "text/html": [
       "<div>\n",
       "<style scoped>\n",
       "    .dataframe tbody tr th:only-of-type {\n",
       "        vertical-align: middle;\n",
       "    }\n",
       "\n",
       "    .dataframe tbody tr th {\n",
       "        vertical-align: top;\n",
       "    }\n",
       "\n",
       "    .dataframe thead th {\n",
       "        text-align: right;\n",
       "    }\n",
       "</style>\n",
       "<table border=\"1\" class=\"dataframe\">\n",
       "  <thead>\n",
       "    <tr style=\"text-align: right;\">\n",
       "      <th></th>\n",
       "      <th>correlation</th>\n",
       "    </tr>\n",
       "    <tr>\n",
       "      <th>original_title</th>\n",
       "      <th></th>\n",
       "    </tr>\n",
       "  </thead>\n",
       "  <tbody>\n",
       "    <tr>\n",
       "      <th>Animal Farm &amp; 1984</th>\n",
       "      <td>0.447214</td>\n",
       "    </tr>\n",
       "    <tr>\n",
       "      <th>De Imitatione Christi</th>\n",
       "      <td>1.000000</td>\n",
       "    </tr>\n",
       "    <tr>\n",
       "      <th>Faust. Der Tragödie erster und zweiter Teil</th>\n",
       "      <td>0.878310</td>\n",
       "    </tr>\n",
       "    <tr>\n",
       "      <th>The Fellowship of the Ring</th>\n",
       "      <td>0.088330</td>\n",
       "    </tr>\n",
       "    <tr>\n",
       "      <th>The Sea of Trolls</th>\n",
       "      <td>1.000000</td>\n",
       "    </tr>\n",
       "  </tbody>\n",
       "</table>\n",
       "</div>"
      ],
      "text/plain": [
       "                                               correlation\n",
       "original_title                                            \n",
       " Animal Farm & 1984                               0.447214\n",
       " De Imitatione Christi                            1.000000\n",
       " Faust. Der Tragödie erster und zweiter Teil      0.878310\n",
       " The Fellowship of the Ring                       0.088330\n",
       " The Sea of Trolls                                1.000000"
      ]
     },
     "execution_count": 22,
     "metadata": {},
     "output_type": "execute_result"
    }
   ],
   "source": [
    "corr_TCITR = pd.DataFrame(similar_to_TCITR, columns=['correlation'])\n",
    "corr_TCITR.dropna(inplace=True)\n",
    "corr_TCITR.head()"
   ]
  },
  {
   "cell_type": "code",
   "execution_count": 23,
   "metadata": {},
   "outputs": [
    {
     "data": {
      "text/html": [
       "<div>\n",
       "<style scoped>\n",
       "    .dataframe tbody tr th:only-of-type {\n",
       "        vertical-align: middle;\n",
       "    }\n",
       "\n",
       "    .dataframe tbody tr th {\n",
       "        vertical-align: top;\n",
       "    }\n",
       "\n",
       "    .dataframe thead th {\n",
       "        text-align: right;\n",
       "    }\n",
       "</style>\n",
       "<table border=\"1\" class=\"dataframe\">\n",
       "  <thead>\n",
       "    <tr style=\"text-align: right;\">\n",
       "      <th></th>\n",
       "      <th>correlation</th>\n",
       "    </tr>\n",
       "    <tr>\n",
       "      <th>original_title</th>\n",
       "      <th></th>\n",
       "    </tr>\n",
       "  </thead>\n",
       "  <tbody>\n",
       "    <tr>\n",
       "      <th>Animal Farm &amp; 1984</th>\n",
       "      <td>-0.051209</td>\n",
       "    </tr>\n",
       "    <tr>\n",
       "      <th>De Imitatione Christi</th>\n",
       "      <td>-1.000000</td>\n",
       "    </tr>\n",
       "    <tr>\n",
       "      <th>Faust. Der Tragödie erster und zweiter Teil</th>\n",
       "      <td>-0.467707</td>\n",
       "    </tr>\n",
       "    <tr>\n",
       "      <th>The Fellowship of the Ring</th>\n",
       "      <td>-0.080501</td>\n",
       "    </tr>\n",
       "    <tr>\n",
       "      <th>The Sea of Trolls</th>\n",
       "      <td>-1.000000</td>\n",
       "    </tr>\n",
       "  </tbody>\n",
       "</table>\n",
       "</div>"
      ],
      "text/plain": [
       "                                               correlation\n",
       "original_title                                            \n",
       " Animal Farm & 1984                              -0.051209\n",
       " De Imitatione Christi                           -1.000000\n",
       " Faust. Der Tragödie erster und zweiter Teil     -0.467707\n",
       " The Fellowship of the Ring                      -0.080501\n",
       " The Sea of Trolls                               -1.000000"
      ]
     },
     "execution_count": 23,
     "metadata": {},
     "output_type": "execute_result"
    }
   ],
   "source": [
    "corr_TKAM = pd.DataFrame(similar_to_TKAM, columns=['correlation'])\n",
    "corr_TKAM.dropna(inplace=True)\n",
    "corr_TKAM.head()"
   ]
  },
  {
   "cell_type": "markdown",
   "metadata": {},
   "source": [
    "### Now we're going to limit the correlated books based on the times they were rated"
   ]
  },
  {
   "cell_type": "code",
   "execution_count": 24,
   "metadata": {},
   "outputs": [
    {
     "data": {
      "text/html": [
       "<div>\n",
       "<style scoped>\n",
       "    .dataframe tbody tr th:only-of-type {\n",
       "        vertical-align: middle;\n",
       "    }\n",
       "\n",
       "    .dataframe tbody tr th {\n",
       "        vertical-align: top;\n",
       "    }\n",
       "\n",
       "    .dataframe thead th {\n",
       "        text-align: right;\n",
       "    }\n",
       "</style>\n",
       "<table border=\"1\" class=\"dataframe\">\n",
       "  <thead>\n",
       "    <tr style=\"text-align: right;\">\n",
       "      <th></th>\n",
       "      <th>times_rated</th>\n",
       "      <th>correlation</th>\n",
       "    </tr>\n",
       "    <tr>\n",
       "      <th>original_title</th>\n",
       "      <th></th>\n",
       "      <th></th>\n",
       "    </tr>\n",
       "  </thead>\n",
       "  <tbody>\n",
       "    <tr>\n",
       "      <th>Twilight</th>\n",
       "      <td>569</td>\n",
       "      <td>0.175062</td>\n",
       "    </tr>\n",
       "    <tr>\n",
       "      <th>To Kill a Mockingbird</th>\n",
       "      <td>45</td>\n",
       "      <td>0.191046</td>\n",
       "    </tr>\n",
       "    <tr>\n",
       "      <th>The Great Gatsby</th>\n",
       "      <td>591</td>\n",
       "      <td>0.298058</td>\n",
       "    </tr>\n",
       "    <tr>\n",
       "      <th>The Catcher in the Rye</th>\n",
       "      <td>365</td>\n",
       "      <td>1.000000</td>\n",
       "    </tr>\n",
       "    <tr>\n",
       "      <th>Angels &amp; Demons</th>\n",
       "      <td>602</td>\n",
       "      <td>0.038376</td>\n",
       "    </tr>\n",
       "  </tbody>\n",
       "</table>\n",
       "</div>"
      ],
      "text/plain": [
       "                        times_rated  correlation\n",
       "original_title                                  \n",
       "Twilight                        569     0.175062\n",
       "To Kill a Mockingbird            45     0.191046\n",
       "The Great Gatsby                591     0.298058\n",
       "The Catcher in the Rye          365     1.000000\n",
       "Angels & Demons                 602     0.038376"
      ]
     },
     "execution_count": 24,
     "metadata": {},
     "output_type": "execute_result"
    }
   ],
   "source": [
    "corr_TCITR = pd.merge(ratings_per_book[[\"original_title\", \"times_rated\"]], corr_TCITR, right_index=True, left_on=\"original_title\")\n",
    "corr_TCITR.set_index('original_title', inplace=True, drop=True)\n",
    "corr_TCITR.head()"
   ]
  },
  {
   "cell_type": "code",
   "execution_count": 25,
   "metadata": {},
   "outputs": [
    {
     "data": {
      "text/html": [
       "<div>\n",
       "<style scoped>\n",
       "    .dataframe tbody tr th:only-of-type {\n",
       "        vertical-align: middle;\n",
       "    }\n",
       "\n",
       "    .dataframe tbody tr th {\n",
       "        vertical-align: top;\n",
       "    }\n",
       "\n",
       "    .dataframe thead th {\n",
       "        text-align: right;\n",
       "    }\n",
       "</style>\n",
       "<table border=\"1\" class=\"dataframe\">\n",
       "  <thead>\n",
       "    <tr style=\"text-align: right;\">\n",
       "      <th></th>\n",
       "      <th>times_rated</th>\n",
       "      <th>correlation</th>\n",
       "    </tr>\n",
       "    <tr>\n",
       "      <th>original_title</th>\n",
       "      <th></th>\n",
       "      <th></th>\n",
       "    </tr>\n",
       "  </thead>\n",
       "  <tbody>\n",
       "    <tr>\n",
       "      <th>Twilight</th>\n",
       "      <td>569</td>\n",
       "      <td>-0.508024</td>\n",
       "    </tr>\n",
       "    <tr>\n",
       "      <th>To Kill a Mockingbird</th>\n",
       "      <td>45</td>\n",
       "      <td>1.000000</td>\n",
       "    </tr>\n",
       "    <tr>\n",
       "      <th>The Great Gatsby</th>\n",
       "      <td>591</td>\n",
       "      <td>0.301162</td>\n",
       "    </tr>\n",
       "    <tr>\n",
       "      <th>The Catcher in the Rye</th>\n",
       "      <td>365</td>\n",
       "      <td>0.191046</td>\n",
       "    </tr>\n",
       "    <tr>\n",
       "      <th>Angels &amp; Demons</th>\n",
       "      <td>602</td>\n",
       "      <td>0.014980</td>\n",
       "    </tr>\n",
       "  </tbody>\n",
       "</table>\n",
       "</div>"
      ],
      "text/plain": [
       "                        times_rated  correlation\n",
       "original_title                                  \n",
       "Twilight                        569    -0.508024\n",
       "To Kill a Mockingbird            45     1.000000\n",
       "The Great Gatsby                591     0.301162\n",
       "The Catcher in the Rye          365     0.191046\n",
       "Angels & Demons                 602     0.014980"
      ]
     },
     "execution_count": 25,
     "metadata": {},
     "output_type": "execute_result"
    }
   ],
   "source": [
    "corr_TKAM = pd.merge(ratings_per_book[[\"original_title\", \"times_rated\"]], corr_TKAM, right_index=True, left_on=\"original_title\")\n",
    "corr_TKAM.set_index('original_title', inplace=True, drop=True)\n",
    "corr_TKAM.head()"
   ]
  },
  {
   "cell_type": "markdown",
   "metadata": {},
   "source": [
    "### As we saw from the histogram, books rarely are rated more than ~200 times and as such that will be our threshold"
   ]
  },
  {
   "cell_type": "code",
   "execution_count": 31,
   "metadata": {},
   "outputs": [
    {
     "data": {
      "text/html": [
       "<div>\n",
       "<style scoped>\n",
       "    .dataframe tbody tr th:only-of-type {\n",
       "        vertical-align: middle;\n",
       "    }\n",
       "\n",
       "    .dataframe tbody tr th {\n",
       "        vertical-align: top;\n",
       "    }\n",
       "\n",
       "    .dataframe thead th {\n",
       "        text-align: right;\n",
       "    }\n",
       "</style>\n",
       "<table border=\"1\" class=\"dataframe\">\n",
       "  <thead>\n",
       "    <tr style=\"text-align: right;\">\n",
       "      <th></th>\n",
       "      <th>times_rated</th>\n",
       "      <th>correlation</th>\n",
       "    </tr>\n",
       "    <tr>\n",
       "      <th>original_title</th>\n",
       "      <th></th>\n",
       "      <th></th>\n",
       "    </tr>\n",
       "  </thead>\n",
       "  <tbody>\n",
       "    <tr>\n",
       "      <th>The Catcher in the Rye</th>\n",
       "      <td>365</td>\n",
       "      <td>1.000000</td>\n",
       "    </tr>\n",
       "    <tr>\n",
       "      <th>Charlotte's Web</th>\n",
       "      <td>393</td>\n",
       "      <td>0.390688</td>\n",
       "    </tr>\n",
       "    <tr>\n",
       "      <th>My Sister's Keeper</th>\n",
       "      <td>238</td>\n",
       "      <td>0.332916</td>\n",
       "    </tr>\n",
       "    <tr>\n",
       "      <th>The Great Gatsby</th>\n",
       "      <td>591</td>\n",
       "      <td>0.298058</td>\n",
       "    </tr>\n",
       "    <tr>\n",
       "      <th>Lord of the Flies</th>\n",
       "      <td>530</td>\n",
       "      <td>0.291964</td>\n",
       "    </tr>\n",
       "    <tr>\n",
       "      <th>The Grapes of Wrath</th>\n",
       "      <td>221</td>\n",
       "      <td>0.288806</td>\n",
       "    </tr>\n",
       "    <tr>\n",
       "      <th>The Adventures of Huckleberry Finn</th>\n",
       "      <td>287</td>\n",
       "      <td>0.272297</td>\n",
       "    </tr>\n",
       "    <tr>\n",
       "      <th>New Moon (Twilight, #2)</th>\n",
       "      <td>226</td>\n",
       "      <td>0.218218</td>\n",
       "    </tr>\n",
       "    <tr>\n",
       "      <th>An Excellent conceited Tragedie of Romeo and Juliet</th>\n",
       "      <td>437</td>\n",
       "      <td>0.214054</td>\n",
       "    </tr>\n",
       "    <tr>\n",
       "      <th>1st To Die</th>\n",
       "      <td>213</td>\n",
       "      <td>0.194917</td>\n",
       "    </tr>\n",
       "  </tbody>\n",
       "</table>\n",
       "</div>"
      ],
      "text/plain": [
       "                                                    times_rated  correlation\n",
       "original_title                                                              \n",
       "The Catcher in the Rye                                      365     1.000000\n",
       "Charlotte's Web                                             393     0.390688\n",
       "My Sister's Keeper                                          238     0.332916\n",
       "The Great Gatsby                                            591     0.298058\n",
       "Lord of the Flies                                           530     0.291964\n",
       "The Grapes of Wrath                                         221     0.288806\n",
       "The Adventures of Huckleberry Finn                          287     0.272297\n",
       "New Moon (Twilight, #2)                                     226     0.218218\n",
       "An Excellent conceited Tragedie of Romeo and Ju...          437     0.214054\n",
       "1st To Die                                                  213     0.194917"
      ]
     },
     "execution_count": 31,
     "metadata": {},
     "output_type": "execute_result"
    }
   ],
   "source": [
    "corr_TCITR[corr_TCITR['times_rated'] > 200].sort_values(by='correlation', ascending=False).head(10)"
   ]
  },
  {
   "cell_type": "code",
   "execution_count": 32,
   "metadata": {},
   "outputs": [
    {
     "data": {
      "text/html": [
       "<div>\n",
       "<style scoped>\n",
       "    .dataframe tbody tr th:only-of-type {\n",
       "        vertical-align: middle;\n",
       "    }\n",
       "\n",
       "    .dataframe tbody tr th {\n",
       "        vertical-align: top;\n",
       "    }\n",
       "\n",
       "    .dataframe thead th {\n",
       "        text-align: right;\n",
       "    }\n",
       "</style>\n",
       "<table border=\"1\" class=\"dataframe\">\n",
       "  <thead>\n",
       "    <tr style=\"text-align: right;\">\n",
       "      <th></th>\n",
       "      <th>times_rated</th>\n",
       "      <th>correlation</th>\n",
       "    </tr>\n",
       "    <tr>\n",
       "      <th>original_title</th>\n",
       "      <th></th>\n",
       "      <th></th>\n",
       "    </tr>\n",
       "  </thead>\n",
       "  <tbody>\n",
       "    <tr>\n",
       "      <th>The Sisterhood of the Traveling Pants</th>\n",
       "      <td>222</td>\n",
       "      <td>0.541705</td>\n",
       "    </tr>\n",
       "    <tr>\n",
       "      <th>World War Z: An Oral History of the Zombie War</th>\n",
       "      <td>243</td>\n",
       "      <td>0.525226</td>\n",
       "    </tr>\n",
       "    <tr>\n",
       "      <th>Eldest</th>\n",
       "      <td>235</td>\n",
       "      <td>0.496031</td>\n",
       "    </tr>\n",
       "    <tr>\n",
       "      <th>Het Achterhuis: Dagboekbrieven 14 juni 1942 - 1 augustus 1944</th>\n",
       "      <td>465</td>\n",
       "      <td>0.358375</td>\n",
       "    </tr>\n",
       "    <tr>\n",
       "      <th>The Adventures of Huckleberry Finn</th>\n",
       "      <td>287</td>\n",
       "      <td>0.346364</td>\n",
       "    </tr>\n",
       "    <tr>\n",
       "      <th>Charlotte's Web</th>\n",
       "      <td>393</td>\n",
       "      <td>0.304380</td>\n",
       "    </tr>\n",
       "    <tr>\n",
       "      <th>The Great Gatsby</th>\n",
       "      <td>591</td>\n",
       "      <td>0.301162</td>\n",
       "    </tr>\n",
       "    <tr>\n",
       "      <th>The Firm</th>\n",
       "      <td>272</td>\n",
       "      <td>0.299539</td>\n",
       "    </tr>\n",
       "    <tr>\n",
       "      <th>An Excellent conceited Tragedie of Romeo and Juliet</th>\n",
       "      <td>437</td>\n",
       "      <td>0.273228</td>\n",
       "    </tr>\n",
       "    <tr>\n",
       "      <th>Pride and Prejudice</th>\n",
       "      <td>363</td>\n",
       "      <td>0.238335</td>\n",
       "    </tr>\n",
       "  </tbody>\n",
       "</table>\n",
       "</div>"
      ],
      "text/plain": [
       "                                                    times_rated  correlation\n",
       "original_title                                                              \n",
       "The Sisterhood of the Traveling Pants                       222     0.541705\n",
       "World War Z: An Oral History of the Zombie War              243     0.525226\n",
       "Eldest                                                      235     0.496031\n",
       "Het Achterhuis: Dagboekbrieven 14 juni 1942 - 1...          465     0.358375\n",
       "The Adventures of Huckleberry Finn                          287     0.346364\n",
       "Charlotte's Web                                             393     0.304380\n",
       "The Great Gatsby                                            591     0.301162\n",
       "The Firm                                                    272     0.299539\n",
       "An Excellent conceited Tragedie of Romeo and Ju...          437     0.273228\n",
       "Pride and Prejudice                                         363     0.238335"
      ]
     },
     "execution_count": 32,
     "metadata": {},
     "output_type": "execute_result"
    }
   ],
   "source": [
    "corr_TKAM[corr_TKAM['times_rated'] > 200].sort_values(by='correlation', ascending=False).head(10)"
   ]
  },
  {
   "cell_type": "markdown",
   "metadata": {},
   "source": [
    "The Diary of a Young GirlUsing these correlation metrics we can recommend the user e.g `Charlotte's Web` and `The Diary of a Young Girl`or `The Sisterhood of the Traveling Pants`"
   ]
  }
 ],
 "metadata": {
  "kernelspec": {
   "display_name": "Python 3",
   "language": "python",
   "name": "python3"
  },
  "language_info": {
   "codemirror_mode": {
    "name": "ipython",
    "version": 3
   },
   "file_extension": ".py",
   "mimetype": "text/x-python",
   "name": "python",
   "nbconvert_exporter": "python",
   "pygments_lexer": "ipython3",
   "version": "3.7.3"
  }
 },
 "nbformat": 4,
 "nbformat_minor": 2
}
